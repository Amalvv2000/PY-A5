{
  "nbformat": 4,
  "nbformat_minor": 0,
  "metadata": {
    "colab": {
      "name": "Day5Assignment-1 Prime.ipynb",
      "provenance": [],
      "collapsed_sections": []
    },
    "kernelspec": {
      "name": "python3",
      "display_name": "Python 3"
    },
    "language_info": {
      "name": "python"
    }
  },
  "cells": [
    {
      "cell_type": "code",
      "metadata": {
        "id": "k7dpCkpiSL-V"
      },
      "source": [
        "#Day-5\n",
        "#Date:02/07/2021\n",
        "#Amal V.V\n",
        "#amalvv2000cit@gmail.com"
      ],
      "execution_count": null,
      "outputs": []
    },
    {
      "cell_type": "markdown",
      "metadata": {
        "id": "65Pwc5nzSxJc"
      },
      "source": [
        "**Prime Numbers or Not**"
      ]
    },
    {
      "cell_type": "code",
      "metadata": {
        "colab": {
          "base_uri": "https://localhost:8080/"
        },
        "id": "YFP4ePREWTFn",
        "outputId": "67dcb869-96cd-490c-bf33-2f04153dca0b"
      },
      "source": [
        "n = int(input(\"Enter a number: \"))  \n",
        " \n",
        "if n > 1:  \n",
        "   for i in range(2,n):  \n",
        "       if (n % i) == 0:  \n",
        "           print(\"The entered number is not a prime number\")  \n",
        "           break  \n",
        "   else:  \n",
        "       print(\"The entered number is a prime number\")         \n",
        "else:  \n",
        "   print(\"The entered number is not a prime number\")"
      ],
      "execution_count": null,
      "outputs": [
        {
          "output_type": "stream",
          "text": [
            "Enter a number: 1\n",
            "The entered number is not a prime number\n"
          ],
          "name": "stdout"
        }
      ]
    }
  ]
}