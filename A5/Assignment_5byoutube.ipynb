{
  "nbformat": 4,
  "nbformat_minor": 0,
  "metadata": {
    "colab": {
      "name": "Assignment-5byoutube.ipynb",
      "provenance": [],
      "collapsed_sections": []
    },
    "kernelspec": {
      "name": "python3",
      "display_name": "Python 3"
    },
    "language_info": {
      "name": "python"
    }
  },
  "cells": [
    {
      "cell_type": "markdown",
      "metadata": {
        "id": "HUv6FsF62JGj"
      },
      "source": [
        "Youtube Downloader using library in Pypi"
      ]
    },
    {
      "cell_type": "code",
      "metadata": {
        "id": "6epIbpeB1pI1"
      },
      "source": [
        "#Assignment-5\n",
        "#Day-5\n",
        "#Date:02/07/2021\n",
        "#Amal V.V\n",
        "#amalvv2000cit@gmail.com\n"
      ],
      "execution_count": null,
      "outputs": []
    },
    {
      "cell_type": "code",
      "metadata": {
        "colab": {
          "base_uri": "https://localhost:8080/"
        },
        "id": "kZr5aoTRLQCu",
        "outputId": "ec4a3fc4-c560-4087-d635-cd9761fc8bce"
      },
      "source": [
        "! pip install pytube"
      ],
      "execution_count": null,
      "outputs": [
        {
          "output_type": "stream",
          "text": [
            "Collecting pytube\n",
            "\u001b[?25l  Downloading https://files.pythonhosted.org/packages/9f/2e/92c42ac4fd8b702bb9fcac5a61bcb9740506376008aaa2c2093f6cbf4cb6/pytube-10.9.2-py3-none-any.whl (54kB)\n",
            "\r\u001b[K     |██████                          | 10kB 21.6MB/s eta 0:00:01\r\u001b[K     |████████████                    | 20kB 19.6MB/s eta 0:00:01\r\u001b[K     |██████████████████              | 30kB 16.0MB/s eta 0:00:01\r\u001b[K     |████████████████████████        | 40kB 14.4MB/s eta 0:00:01\r\u001b[K     |██████████████████████████████  | 51kB 7.1MB/s eta 0:00:01\r\u001b[K     |████████████████████████████████| 61kB 4.7MB/s \n",
            "\u001b[?25hInstalling collected packages: pytube\n",
            "Successfully installed pytube-10.9.2\n"
          ],
          "name": "stdout"
        }
      ]
    },
    {
      "cell_type": "code",
      "metadata": {
        "colab": {
          "base_uri": "https://localhost:8080/",
          "height": 35
        },
        "id": "cxYkVWGxybaK",
        "outputId": "cf2a5389-3e7e-4820-b72d-f33d17cb037d"
      },
      "source": [
        "import pytube\n",
        "\n",
        "url = 'https://www.youtube.com/watch?v=9t3gW1Djcgs'\n",
        "\n",
        "youtube = pytube.YouTube(url)\n",
        "video = youtube.streams.first()\n",
        "video.download('../Video')"
      ],
      "execution_count": null,
      "outputs": [
        {
          "output_type": "execute_result",
          "data": {
            "application/vnd.google.colaboratory.intrinsic+json": {
              "type": "string"
            },
            "text/plain": [
              "'/content/../Video/How to start your Coding Career.mp4'"
            ]
          },
          "metadata": {
            "tags": []
          },
          "execution_count": 14
        }
      ]
    }
  ]
}